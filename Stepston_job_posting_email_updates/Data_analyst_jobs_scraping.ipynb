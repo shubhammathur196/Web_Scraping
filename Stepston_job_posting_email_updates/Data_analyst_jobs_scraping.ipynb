{
 "cells": [
  {
   "cell_type": "code",
   "execution_count": 162,
   "id": "c873c163",
   "metadata": {},
   "outputs": [],
   "source": [
    "# Importing required Libraries\n",
    "import requests\n",
    "import pandas as pd\n",
    "import smtplib\n",
    "import csv\n",
    "from email.mime.multipart import MIMEMultipart\n",
    "from email.mime.text import MIMEText\n",
    "from email.mime.base import MIMEBase\n",
    "from email import encoders\n"
   ]
  },
  {
   "cell_type": "code",
   "execution_count": 163,
   "id": "9e1df873",
   "metadata": {},
   "outputs": [],
   "source": [
    "# Scrape job details\n",
    "job_search_keyword = 'working student analytics'\n",
    "url = 'https://www.stepstone.de/jobs/' + job_search_keyword.replace(\" \", \"\")\n",
    "html = requests.get(url)\n",
    "soup = BeautifulSoup(html.content, 'html.parser')\n"
   ]
  },
  {
   "cell_type": "code",
   "execution_count": 164,
   "id": "b4702209",
   "metadata": {},
   "outputs": [],
   "source": [
    "# Extract job details from the website\n",
    "job_titles = []\n",
    "job_title_elements = soup.find_all(class_='res-3yv1ty')\n",
    "for element in job_title_elements:\n",
    "    job_titles.append(element.get_text(strip=True))\n",
    "\n",
    "company_names = []\n",
    "company_name_elements = soup.find_all(class_='res-1ywdsmo')\n",
    "for element in company_name_elements:\n",
    "    company_names.append(element.get_text(strip=True))\n",
    "\n",
    "locations = []\n",
    "location_elements = soup.find_all('span', class_='res-dettfq')\n",
    "for element in location_elements:\n",
    "    locations.append(element.get_text(strip=True))\n",
    "\n",
    "links = []\n",
    "link_elements = soup.find_all('div', class_='res-17bliwk')\n",
    "for link_element in link_elements:\n",
    "    a_element = link_element.find('a', class_='res-fr75pv')\n",
    "    if a_element:\n",
    "        links.append(a_element['href'])\n"
   ]
  },
  {
   "cell_type": "code",
   "execution_count": 165,
   "id": "aae2d62e",
   "metadata": {},
   "outputs": [],
   "source": [
    "\n",
    "# Create a DataFrame from the scraped data\n",
    "data = {\n",
    "    'Job Title': job_titles,\n",
    "    'Company Name': company_names,\n",
    "    'Location': locations,\n",
    "    'Link': links\n",
    "}\n",
    "df = pd.DataFrame(data)\n"
   ]
  },
  {
   "cell_type": "code",
   "execution_count": 167,
   "id": "9f6438db",
   "metadata": {},
   "outputs": [],
   "source": [
    "\n",
    "# Save DataFrame to CSV\n",
    "csv_filename = 'job_details.csv'\n",
    "df.to_csv(csv_filename, index=False)\n",
    "\n"
   ]
  },
  {
   "cell_type": "code",
   "execution_count": 168,
   "id": "d165355f",
   "metadata": {},
   "outputs": [],
   "source": [
    "# Email the CSV file\n",
    "sender_email = '' # enter your email\n",
    "sender_password = '' # enter your password\n",
    "receiver_email = '' # enter your password\n",
    "\n",
    "subject = 'Daily Job Details'\n",
    "body = 'Please find attached the job details for today.'\n",
    "\n"
   ]
  },
  {
   "cell_type": "code",
   "execution_count": 169,
   "id": "27278bf1",
   "metadata": {},
   "outputs": [],
   "source": [
    "# Create the multipart message\n",
    "message = MIMEMultipart()\n",
    "message['From'] = sender_email\n",
    "message['To'] = receiver_email\n",
    "message['Subject'] = subject\n",
    "\n",
    "message.attach(MIMEText(body, 'plain'))\n",
    "\n"
   ]
  },
  {
   "cell_type": "code",
   "execution_count": 170,
   "id": "eaa97848",
   "metadata": {
    "scrolled": true
   },
   "outputs": [],
   "source": [
    "# Attach the CSV file\n",
    "with open(csv_filename, 'rb') as file:\n",
    "    attachment = MIMEBase('application', 'octet-stream')\n",
    "    attachment.set_payload(file.read())\n",
    "\n",
    "encoders.encode_base64(attachment)\n",
    "attachment.add_header('Content-Disposition', f'attachment; filename= {csv_filename}')\n",
    "message.attach(attachment)\n",
    "\n"
   ]
  },
  {
   "cell_type": "code",
   "execution_count": 174,
   "id": "4d251dde",
   "metadata": {},
   "outputs": [
    {
     "data": {
      "text/plain": [
       "(235, b'2.7.0 Authentication successful')"
      ]
     },
     "execution_count": 174,
     "metadata": {},
     "output_type": "execute_result"
    }
   ],
   "source": [
    "# Establish a secure connection with the SMTP server (Outlook)\n",
    "server = smtplib.SMTP('smtp.office365.com', 587) # code is written for an outlook mail , you can change it for gmail \n",
    "server.starttls()\n",
    "server.login(sender_email, sender_password)\n",
    "\n"
   ]
  },
  {
   "cell_type": "code",
   "execution_count": 175,
   "id": "0109237b",
   "metadata": {},
   "outputs": [
    {
     "data": {
      "text/plain": [
       "(221, b'2.0.0 Service closing transmission channel')"
      ]
     },
     "execution_count": 175,
     "metadata": {},
     "output_type": "execute_result"
    }
   ],
   "source": [
    "# Send the email\n",
    "server.send_message(message)\n",
    "\n",
    "# Close the SMTP server\n",
    "server.quit()"
   ]
  },
  {
   "cell_type": "code",
   "execution_count": null,
   "id": "da1d2be5",
   "metadata": {},
   "outputs": [],
   "source": []
  }
 ],
 "metadata": {
  "kernelspec": {
   "display_name": "Python 3 (ipykernel)",
   "language": "python",
   "name": "python3"
  },
  "language_info": {
   "codemirror_mode": {
    "name": "ipython",
    "version": 3
   },
   "file_extension": ".py",
   "mimetype": "text/x-python",
   "name": "python",
   "nbconvert_exporter": "python",
   "pygments_lexer": "ipython3",
   "version": "3.10.9"
  }
 },
 "nbformat": 4,
 "nbformat_minor": 5
}
